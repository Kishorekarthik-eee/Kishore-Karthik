{
 "cells": [
  {
   "cell_type": "code",
   "execution_count": 5,
   "id": "ac363380",
   "metadata": {},
   "outputs": [
    {
     "name": "stdout",
     "output_type": "stream",
     "text": [
      "\n",
      "Array: \n",
      " [[0.52738136 0.82376091 0.54762448 0.41803377]\n",
      " [0.94970019 0.86404104 0.79292477 0.49110192]\n",
      " [0.04873819 0.89160768 0.20947132 0.08973897]]\n",
      "\n",
      " Array with zeros: \n",
      " [[0. 0. 0. 0.]\n",
      " [0. 0. 0. 0.]\n",
      " [0. 0. 0. 0.]]\n",
      "\n",
      " Array of step size 2: \n",
      " [ 5  7  9 11 13 15 17 19 21 23 25 27 29]\n",
      "\n",
      "Shape: \n",
      " (3, 4)\n",
      "\n",
      "Dimension: \n",
      " 2\n",
      "\n",
      "Datatype: \n",
      " float64\n",
      "\n",
      "Flatten array: \n",
      " [0.52738136 0.82376091 0.54762448 0.41803377 0.94970019 0.86404104\n",
      " 0.79292477 0.49110192 0.04873819 0.89160768 0.20947132 0.08973897]\n"
     ]
    }
   ],
   "source": [
    "import numpy as np\n",
    "a = np.random.random((3,4))\n",
    "print(\"\\nArray: \\n\",a)\n",
    "b = np.zeros((3,4))\n",
    "print(\"\\n Array with zeros: \\n\",b)\n",
    "c = np.arange(5,31,2)\n",
    "print(\"\\n Array of step size 2: \\n\",c)\n",
    "print(\"\\nShape: \\n\",a.shape)\n",
    "print(\"\\nDimension: \\n\",a.ndim)\n",
    "print(\"\\nDatatype: \\n\",a.dtype)\n",
    "print(\"\\nFlatten array: \\n\",a.flatten())\n"
   ]
  },
  {
   "cell_type": "code",
   "execution_count": null,
   "id": "64b4f512",
   "metadata": {},
   "outputs": [],
   "source": []
  }
 ],
 "metadata": {
  "kernelspec": {
   "display_name": "Python 3 (ipykernel)",
   "language": "python",
   "name": "python3"
  },
  "language_info": {
   "codemirror_mode": {
    "name": "ipython",
    "version": 3
   },
   "file_extension": ".py",
   "mimetype": "text/x-python",
   "name": "python",
   "nbconvert_exporter": "python",
   "pygments_lexer": "ipython3",
   "version": "3.11.5"
  }
 },
 "nbformat": 4,
 "nbformat_minor": 5
}
