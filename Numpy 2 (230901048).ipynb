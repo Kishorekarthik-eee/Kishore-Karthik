{
 "cells": [
  {
   "cell_type": "code",
   "execution_count": 8,
   "id": "4f57bdc0",
   "metadata": {},
   "outputs": [
    {
     "name": "stdout",
     "output_type": "stream",
     "text": [
      "sliced array =  [3 4 5 6]\n"
     ]
    }
   ],
   "source": [
    "import numpy as np\n",
    "a = np.array([1,2,3,4,5,6,7,8,9])\n",
    "slice1 =a[2:6]\n",
    "print(\"sliced array = \",slice1)"
   ]
  },
  {
   "cell_type": "code",
   "execution_count": 9,
   "id": "32112c9e",
   "metadata": {},
   "outputs": [
    {
     "name": "stdout",
     "output_type": "stream",
     "text": [
      "Array of step 2 =  [1 3 5 7 9]\n"
     ]
    }
   ],
   "source": [
    "import numpy as np\n",
    "a = np.array([1,2,3,4,5,6,7,8,9])\n",
    "slice1 = a[::2]\n",
    "print(\"Array of step 2 = \",slice1)\n"
   ]
  },
  {
   "cell_type": "code",
   "execution_count": 10,
   "id": "4a641378",
   "metadata": {},
   "outputs": [
    {
     "name": "stdout",
     "output_type": "stream",
     "text": [
      "Array of step 3 =  [1 4 7]\n"
     ]
    }
   ],
   "source": [
    "import numpy as np\n",
    "a = np.array([1,2,3,4,5,6,7,8,9])\n",
    "slice1 = a[::3]\n",
    "print(\"Array of step 3 = \",slice1)"
   ]
  },
  {
   "cell_type": "code",
   "execution_count": 11,
   "id": "c87b8fad",
   "metadata": {},
   "outputs": [
    {
     "name": "stdout",
     "output_type": "stream",
     "text": [
      "Reversed array =  [9 8 7 6 5 4 3 2 1]\n"
     ]
    }
   ],
   "source": [
    "import numpy as np\n",
    "a = np.array([1,2,3,4,5,6,7,8,9])\n",
    "slice1 = a[::-1]\n",
    "print(\"Reversed array = \",slice1)"
   ]
  },
  {
   "cell_type": "code",
   "execution_count": 15,
   "id": "923418b1",
   "metadata": {},
   "outputs": [
    {
     "name": "stdout",
     "output_type": "stream",
     "text": [
      "Sliced multidimensional array = \n",
      " [[2 3]\n",
      " [5 6]]\n"
     ]
    }
   ],
   "source": [
    "import numpy as np\n",
    "a = np.array([[1,2,3],[4,5,6],[7,8,9]])\n",
    "subarray = a[0:2,1:3]\n",
    "print(\"Sliced multidimensional array = \\n\",subarray)"
   ]
  },
  {
   "cell_type": "code",
   "execution_count": 16,
   "id": "11072f7d",
   "metadata": {},
   "outputs": [
    {
     "name": "stdout",
     "output_type": "stream",
     "text": [
      "[[1]\n",
      " [4]]\n"
     ]
    }
   ],
   "source": [
    "import numpy as np\n",
    "a = np.array([[1,2,3],[4,5,6],[7,8,9]])\n",
    "subarray = a[:2,:1]\n",
    "print(subarray)"
   ]
  },
  {
   "cell_type": "code",
   "execution_count": 20,
   "id": "16dfb5a4",
   "metadata": {},
   "outputs": [
    {
     "name": "stdout",
     "output_type": "stream",
     "text": [
      "Extracted first column =  [1 4 7]\n"
     ]
    }
   ],
   "source": [
    "import numpy as np\n",
    "a = np.array([[1,2,3],[4,5,6],[7,8,9]])\n",
    "col1 = a[:,0]\n",
    "print(\"Extracted first column = \",col1)"
   ]
  },
  {
   "cell_type": "code",
   "execution_count": 23,
   "id": "1bc3248e",
   "metadata": {},
   "outputs": [
    {
     "name": "stdout",
     "output_type": "stream",
     "text": [
      "Extracted first row =  [1 2 3]\n"
     ]
    }
   ],
   "source": [
    "import numpy as np\n",
    "a = np.array([[1,2,3],[4,5,6],[7,8,9]])\n",
    "row1 = a[0,:]\n",
    "print(\"Extracted first row = \",row1)"
   ]
  },
  {
   "cell_type": "code",
   "execution_count": 27,
   "id": "07c32968",
   "metadata": {},
   "outputs": [
    {
     "name": "stdout",
     "output_type": "stream",
     "text": [
      "rows = \n",
      " [[1 2 3]\n",
      " [4 5 6]]\n"
     ]
    }
   ],
   "source": [
    "import numpy as np\n",
    "a = np.array([[1,2,3],[4,5,6],[7,8,9]])\n",
    "row1 = a[0:2:1]\n",
    "print(\"rows = \\n\",row1)"
   ]
  },
  {
   "cell_type": "code",
   "execution_count": 28,
   "id": "e1de5189",
   "metadata": {},
   "outputs": [
    {
     "name": "stdout",
     "output_type": "stream",
     "text": [
      "10\n",
      "40\n"
     ]
    }
   ],
   "source": [
    "#array indicing for 1D array\n",
    "import numpy as np\n",
    "import array\n",
    "a = array.array('i',[10,20,30,40,50])\n",
    "print(a[0])\n",
    "print(a[3])"
   ]
  },
  {
   "cell_type": "code",
   "execution_count": 29,
   "id": "b876f2c8",
   "metadata": {},
   "outputs": [
    {
     "name": "stdout",
     "output_type": "stream",
     "text": [
      "1\n",
      "8\n"
     ]
    }
   ],
   "source": [
    "#array indicing for 2D array\n",
    "import numpy as np\n",
    "a = np.array([[1,2,3],[4,5,6],[7,8,9]])\n",
    "print(a[0,0])\n",
    "print(a[2,1])"
   ]
  },
  {
   "cell_type": "code",
   "execution_count": 34,
   "id": "e66c8a74",
   "metadata": {},
   "outputs": [
    {
     "name": "stdout",
     "output_type": "stream",
     "text": [
      "Basic indexing =  20\n",
      "Negative indexing =  50\n",
      "Slicing indexing =  [20 30 40]\n",
      "Boolean indexing =  [30 40 50]\n",
      "Fancy indexing =  [20 40]\n"
     ]
    }
   ],
   "source": [
    "#Indexing technique\n",
    "#Basic indexing\n",
    "import numpy as np\n",
    "a = np.array([10,20,30,40,50])\n",
    "print(\"Basic indexing = \",a[1])\n",
    "\n",
    "#Negative indexing\n",
    "print(\"Negative indexing = \",a[-1])\n",
    "\n",
    "#Slicing indexing\n",
    "print(\"Slicing indexing = \",a[1:4])\n",
    "\n",
    "#Boolean indexing\n",
    "arr = np.array([10,20,30,40,50])\n",
    "print(\"Boolean indexing = \",arr[arr>25])\n",
    "\n",
    "#Fancy indexing\n",
    "arr = np.array([10,20,30,40,50])\n",
    "print(\"Fancy indexing = \",arr[[1,3]])"
   ]
  },
  {
   "cell_type": "code",
   "execution_count": 4,
   "id": "b781a652",
   "metadata": {},
   "outputs": [
    {
     "name": "stdout",
     "output_type": "stream",
     "text": [
      "Horizontal join = \n",
      " [[1 2 5 6]\n",
      " [3 4 7 8]]\n"
     ]
    }
   ],
   "source": [
    "import numpy as np\n",
    "a = np.array([[1,2],[3,4]])\n",
    "b = np.array([[5,6],[7,8]])\n",
    "result = np.hstack((a,b))\n",
    "print(\"Horizontal join = \\n\",result)"
   ]
  },
  {
   "cell_type": "code",
   "execution_count": 5,
   "id": "344a9cec",
   "metadata": {},
   "outputs": [
    {
     "name": "stdout",
     "output_type": "stream",
     "text": [
      "Vertical join = \n",
      " [[1 2]\n",
      " [3 4]\n",
      " [5 6]\n",
      " [7 8]]\n"
     ]
    }
   ],
   "source": [
    "import numpy as np\n",
    "a = np.array([[1,2],[3,4]])\n",
    "b = np.array([[5,6],[7,8]])\n",
    "result = np.vstack((a,b))\n",
    "print(\"Vertical join = \\n\",result)"
   ]
  },
  {
   "cell_type": "code",
   "execution_count": 6,
   "id": "573fd579",
   "metadata": {},
   "outputs": [
    {
     "name": "stdout",
     "output_type": "stream",
     "text": [
      "Depth join = \n",
      " [[[1 5]\n",
      "  [2 6]]\n",
      "\n",
      " [[3 7]\n",
      "  [4 8]]]\n"
     ]
    }
   ],
   "source": [
    "import numpy as np\n",
    "\n",
    "a = np.array([[1,2],[3,4]])\n",
    "b = np.array([[5,6],[7,8]])\n",
    "result = np.dstack((a,b))\n",
    "print(\"Depth join = \\n\",result)"
   ]
  },
  {
   "cell_type": "code",
   "execution_count": 10,
   "id": "c1e289e9",
   "metadata": {},
   "outputs": [
    {
     "name": "stdout",
     "output_type": "stream",
     "text": [
      "Splitted array = \n",
      " [array([1, 2]), array([3, 4]), array([5, 6])]\n"
     ]
    }
   ],
   "source": [
    "import numpy as np\n",
    "a = np.array([1,2,3,4,5,6])\n",
    "result = np.array_split(a,3)\n",
    "print(\"Splitted array = \\n\",result)"
   ]
  },
  {
   "cell_type": "code",
   "execution_count": null,
   "id": "b8142088",
   "metadata": {},
   "outputs": [],
   "source": []
  }
 ],
 "metadata": {
  "kernelspec": {
   "display_name": "Python 3 (ipykernel)",
   "language": "python",
   "name": "python3"
  },
  "language_info": {
   "codemirror_mode": {
    "name": "ipython",
    "version": 3
   },
   "file_extension": ".py",
   "mimetype": "text/x-python",
   "name": "python",
   "nbconvert_exporter": "python",
   "pygments_lexer": "ipython3",
   "version": "3.11.5"
  }
 },
 "nbformat": 4,
 "nbformat_minor": 5
}
