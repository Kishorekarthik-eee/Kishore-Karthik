{
 "cells": [
  {
   "cell_type": "code",
   "execution_count": 2,
   "id": "f90787d4",
   "metadata": {},
   "outputs": [
    {
     "name": "stdout",
     "output_type": "stream",
     "text": [
      "Original dataframe with NaN\n",
      "         One       Two     Three\n",
      "a -0.002323 -0.096927  2.170297\n",
      "b  0.854588  2.090973  0.604475\n",
      "c       NaN       NaN       NaN\n",
      "d -1.520795  0.763793 -2.114073\n",
      "e       NaN       NaN       NaN\n",
      "f -2.190814  1.445427 -1.410632\n",
      "\n",
      "\n",
      "Dropped Dataframe\n",
      "         One       Two     Three\n",
      "a -0.002323 -0.096927  2.170297\n",
      "b  0.854588  2.090973  0.604475\n",
      "d -1.520795  0.763793 -2.114073\n",
      "f -2.190814  1.445427 -1.410632\n",
      "\n",
      "\n"
     ]
    }
   ],
   "source": [
    "import pandas as pd\n",
    "import numpy as np\n",
    "df = pd.DataFrame(np.random.randn(4,3),index = ['a','b','d','f'],columns = ['One','Two','Three'])\n",
    "df = df.reindex(['a','b','c','d','e','f'])\n",
    "print(\"Original dataframe with NaN\\n\",df)\n",
    "print(\"\\n\")\n",
    "print(\"Dropped Dataframe\\n\",df.dropna())\n",
    "print(\"\\n\")"
   ]
  },
  {
   "cell_type": "code",
   "execution_count": 4,
   "id": "8fc4c5c5",
   "metadata": {},
   "outputs": [
    {
     "name": "stdout",
     "output_type": "stream",
     "text": [
      "Original dataframe with NaN\n",
      "         One       Two     Three\n",
      "a -0.477220  1.014564  0.738913\n",
      "b  0.937508 -0.306464  0.112302\n",
      "c       NaN       NaN       NaN\n",
      "\n",
      "\n",
      "Nan replaced with '1':\n",
      "         One       Two     Three\n",
      "a -0.477220  1.014564  0.738913\n",
      "b  0.937508 -0.306464  0.112302\n",
      "c  1.000000  1.000000  1.000000\n",
      "\n",
      "\n"
     ]
    }
   ],
   "source": [
    "import pandas as pd\n",
    "import numpy as np\n",
    "df = pd.DataFrame(np.random.randn(4,3),index = ['a','b','d','f'],columns = ['One','Two','Three'])\n",
    "df = df.reindex(['a','b','c'])\n",
    "print(\"Original dataframe with NaN\\n\",df)\n",
    "print(\"\\n\")\n",
    "print(\"Nan replaced with '1':\\n\",df.fillna(1))\n",
    "print(\"\\n\")"
   ]
  },
  {
   "cell_type": "code",
   "execution_count": 12,
   "id": "4305c96e",
   "metadata": {},
   "outputs": [
    {
     "name": "stdout",
     "output_type": "stream",
     "text": [
      "Original dataframe with NaN\n",
      "         One       Two     Three\n",
      "a  0.516563  1.246034 -1.545307\n",
      "b  0.451707  0.027877 -0.493403\n",
      "c       NaN       NaN       NaN\n",
      "d -0.003422 -1.978575  0.057730\n",
      "e       NaN       NaN       NaN\n",
      "f -0.698871 -2.198497  0.553146\n",
      "\n",
      "\n",
      "NaN with true fill:\n",
      "\n",
      "a    False\n",
      "b    False\n",
      "c     True\n",
      "d    False\n",
      "e     True\n",
      "f    False\n",
      "Name: One, dtype: bool\n",
      "\n",
      "\n",
      "\n",
      "NaN_filled with background values:\n",
      "\n",
      "        One       Two     Three\n",
      "a  0.516563  1.246034 -1.545307\n",
      "b  0.451707  0.027877 -0.493403\n",
      "c -0.003422 -1.978575  0.057730\n",
      "d -0.003422 -1.978575  0.057730\n",
      "e -0.698871 -2.198497  0.553146\n",
      "f -0.698871 -2.198497  0.553146\n",
      "\n",
      "NaN_filled with forward fill:\n",
      "\n",
      "        One       Two     Three\n",
      "a  0.516563  1.246034 -1.545307\n",
      "b  0.451707  0.027877 -0.493403\n",
      "c  0.451707  0.027877 -0.493403\n",
      "d -0.003422 -1.978575  0.057730\n",
      "e -0.003422 -1.978575  0.057730\n",
      "f -0.698871 -2.198497  0.553146\n"
     ]
    }
   ],
   "source": [
    " import pandas as pd\n",
    "import numpy as np\n",
    "df = pd.DataFrame(np.random.randn(4,3),index = ['a','b','d','f'],columns = ['One','Two','Three'])\n",
    "df = df.reindex(['a','b','c','d','e','f'])\n",
    "print(\"Original dataframe with NaN\\n\",df)\n",
    "print(\"\\n\")\n",
    "print(\"NaN with true fill:\\n\")\n",
    "print(df['One'].isnull())\n",
    "print(\"\\n\")\n",
    "print(\"\\nNaN_filled with background values:\\n\")\n",
    "print(df.bfill())\n",
    "print(\"\\nNaN_filled with forward fill:\\n\")\n",
    "print(df.ffill())"
   ]
  },
  {
   "cell_type": "code",
   "execution_count": 13,
   "id": "fd81b161",
   "metadata": {},
   "outputs": [
    {
     "name": "stdout",
     "output_type": "stream",
     "text": [
      "Original DataFrame:\n",
      "    One  Two\n",
      "0   10   60\n",
      "1   20   70\n",
      "2   80   80\n",
      "3   40    0\n",
      "4   50   10\n",
      "\n",
      "Dataframe with replaced values:\n",
      "\n",
      "   One  Two\n",
      "0    5   60\n",
      "1   20   70\n",
      "2   30   30\n",
      "3   40    0\n",
      "4   50    5\n"
     ]
    }
   ],
   "source": [
    "df = pd.DataFrame({'One':[10,20,80,40,50],'Two':[60,70,80,0,10]})\n",
    "print(\"Original DataFrame:\\n\",df)\n",
    "print(\"\\nDataframe with replaced values:\\n\")\n",
    "print(df.replace({10:5,80:30}))"
   ]
  },
  {
   "cell_type": "code",
   "execution_count": null,
   "id": "adabc68c",
   "metadata": {},
   "outputs": [],
   "source": []
  }
 ],
 "metadata": {
  "kernelspec": {
   "display_name": "Python 3 (ipykernel)",
   "language": "python",
   "name": "python3"
  },
  "language_info": {
   "codemirror_mode": {
    "name": "ipython",
    "version": 3
   },
   "file_extension": ".py",
   "mimetype": "text/x-python",
   "name": "python",
   "nbconvert_exporter": "python",
   "pygments_lexer": "ipython3",
   "version": "3.11.5"
  }
 },
 "nbformat": 4,
 "nbformat_minor": 5
}
