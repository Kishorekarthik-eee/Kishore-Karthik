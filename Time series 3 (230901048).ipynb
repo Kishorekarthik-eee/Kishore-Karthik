{
 "cells": [
  {
   "cell_type": "code",
   "execution_count": 2,
   "id": "eec9801c",
   "metadata": {},
   "outputs": [
    {
     "name": "stdout",
     "output_type": "stream",
     "text": [
      "Date Index \n",
      " 2011-01-02   -1.400948\n",
      "2011-01-05    2.195921\n",
      "2011-01-07   -2.255564\n",
      "2011-01-08   -1.429426\n",
      "2011-01-10    0.685949\n",
      "2011-01-12    1.336041\n",
      "dtype: float64\n"
     ]
    }
   ],
   "source": [
    "import pandas as pd\n",
    "import numpy as np\n",
    "from datetime import datetime\n",
    "\n",
    "#create a date variable that contains the dates\n",
    "dates = [datetime(2011, 1, 2),\n",
    "datetime(2011, 1, 5),\n",
    "datetime(2011, 1, 7),\n",
    "datetime(2011, 1, 8),\n",
    "datetime(2011, 1, 10),\n",
    "datetime(2011, 1, 12)]\n",
    "\n",
    "#with this date object, create a series\n",
    "ts = pd.Series(np.random.randn(6), index=dates)\n",
    "print(\"Date Index \\n\",ts)"
   ]
  },
  {
   "cell_type": "code",
   "execution_count": 3,
   "id": "f5e88ca6",
   "metadata": {},
   "outputs": [
    {
     "name": "stdout",
     "output_type": "stream",
     "text": [
      "\n",
      "Date Index alone from the series:  DatetimeIndex(['2011-01-02', '2011-01-05', '2011-01-07', '2011-01-08',\n",
      "               '2011-01-10', '2011-01-12'],\n",
      "              dtype='datetime64[ns]', freq=None)\n"
     ]
    }
   ],
   "source": [
    "print(\"\\nDate Index alone from the series: \",ts.index)"
   ]
  },
  {
   "cell_type": "code",
   "execution_count": 4,
   "id": "24c27a86",
   "metadata": {},
   "outputs": [
    {
     "name": "stdout",
     "output_type": "stream",
     "text": [
      "\n",
      "Second index:\n",
      " 2011-01-07 00:00:00\n"
     ]
    }
   ],
   "source": [
    "stamp=ts.index[2]\n",
    "print(\"\\nSecond index:\\n\", stamp)"
   ]
  },
  {
   "cell_type": "code",
   "execution_count": 6,
   "id": "96c7e5c1",
   "metadata": {},
   "outputs": [
    {
     "name": "stdout",
     "output_type": "stream",
     "text": [
      "\n",
      "Daterange up to 1000 days:\n",
      " 2000-01-01   -0.014177\n",
      "2000-01-02   -0.172869\n",
      "2000-01-03   -0.163721\n",
      "2000-01-04   -0.406698\n",
      "2000-01-05    0.626014\n",
      "                ...   \n",
      "2002-09-22    1.020837\n",
      "2002-09-23    0.825428\n",
      "2002-09-24   -0.514563\n",
      "2002-09-25   -2.493246\n",
      "2002-09-26   -0.710622\n",
      "Freq: D, Length: 1000, dtype: float64\n"
     ]
    }
   ],
   "source": [
    "#play like a ball with long-times series\n",
    "longer_ts=pd.Series(np.random.randn(1000),\n",
    "index=pd.date_range(\"2000-01-01\",periods=1000))\n",
    "print(\"\\nDaterange up to 1000 days:\\n\",longer_ts)"
   ]
  },
  {
   "cell_type": "code",
   "execution_count": 8,
   "id": "536b533c",
   "metadata": {},
   "outputs": [
    {
     "name": "stdout",
     "output_type": "stream",
     "text": [
      "\n",
      "Date range-2001 year:\n",
      " 2001-01-01    0.742374\n",
      "2001-01-02    0.505522\n",
      "2001-01-03    1.429633\n",
      "2001-01-04   -0.512123\n",
      "2001-01-05    2.108963\n",
      "                ...   \n",
      "2001-12-27    1.734185\n",
      "2001-12-28    1.233378\n",
      "2001-12-29    0.556781\n",
      "2001-12-30   -0.203225\n",
      "2001-12-31    0.619574\n",
      "Freq: D, Length: 365, dtype: float64\n"
     ]
    }
   ],
   "source": [
    "print(\"\\nDate range-2001 year:\\n\", longer_ts[\"2001\"])"
   ]
  },
  {
   "cell_type": "code",
   "execution_count": 9,
   "id": "ff6bb048",
   "metadata": {},
   "outputs": [
    {
     "name": "stdout",
     "output_type": "stream",
     "text": [
      "\n",
      "Date range-05 month 2001 year:\n",
      " 2001-05-01   -1.219154\n",
      "2001-05-02   -0.753541\n",
      "2001-05-03   -1.272004\n",
      "2001-05-04    0.576355\n",
      "2001-05-05   -0.420748\n",
      "2001-05-06    2.121066\n",
      "2001-05-07   -0.619725\n",
      "2001-05-08   -0.607003\n",
      "2001-05-09    0.885151\n",
      "2001-05-10   -0.514880\n",
      "2001-05-11   -1.231459\n",
      "2001-05-12   -0.942057\n",
      "2001-05-13    0.849698\n",
      "2001-05-14   -0.502108\n",
      "2001-05-15   -1.380058\n",
      "2001-05-16    0.229495\n",
      "2001-05-17   -0.036332\n",
      "2001-05-18    1.116703\n",
      "2001-05-19    0.711498\n",
      "2001-05-20    1.316146\n",
      "2001-05-21   -1.320560\n",
      "2001-05-22   -1.873794\n",
      "2001-05-23    1.383202\n",
      "2001-05-24    0.241315\n",
      "2001-05-25    1.243899\n",
      "2001-05-26    1.185763\n",
      "2001-05-27    0.451984\n",
      "2001-05-28    0.288230\n",
      "2001-05-29    0.480886\n",
      "2001-05-30   -0.867279\n",
      "2001-05-31    0.232188\n",
      "Freq: D, dtype: float64\n"
     ]
    }
   ],
   "source": [
    "print(\"\\nDate range-05 month 2001 year:\\n\", longer_ts[\"2001-05\"])"
   ]
  },
  {
   "cell_type": "code",
   "execution_count": 10,
   "id": "0a263fb8",
   "metadata": {},
   "outputs": [
    {
     "name": "stdout",
     "output_type": "stream",
     "text": [
      "\n",
      "Date range-first few dates in 2000 year:\n",
      " 2000-01-01   -0.014177\n",
      "2000-01-02   -0.172869\n",
      "2000-01-03   -0.163721\n",
      "2000-01-04   -0.406698\n",
      "2000-01-05    0.626014\n",
      "Freq: D, dtype: float64\n"
     ]
    }
   ],
   "source": [
    "print(\"\\nDate range-first few dates in 2000 year:\\n\",longer_ts[\"2000\"].head())"
   ]
  },
  {
   "cell_type": "code",
   "execution_count": 11,
   "id": "873463f3",
   "metadata": {},
   "outputs": [
    {
     "name": "stdout",
     "output_type": "stream",
     "text": [
      "\n",
      "Date range-first 15 dates in 02 month 2001 year:\n",
      " 2000-02-01   -0.585239\n",
      "2000-02-02   -1.024094\n",
      "2000-02-03    1.732909\n",
      "2000-02-04    0.270218\n",
      "2000-02-05   -0.289376\n",
      "2000-02-06   -1.390678\n",
      "2000-02-07   -0.150802\n",
      "2000-02-08    0.650666\n",
      "2000-02-09   -0.440256\n",
      "2000-02-10    1.995362\n",
      "2000-02-11    0.136067\n",
      "2000-02-12   -1.618489\n",
      "2000-02-13    0.006214\n",
      "2000-02-14    1.148302\n",
      "2000-02-15   -2.503531\n",
      "Freq: D, dtype: float64\n"
     ]
    }
   ],
   "source": [
    "print(\"\\nDate range-first 15 dates in 02 month 2001 year:\\n\",longer_ts[\"2000-02\"].head(15))"
   ]
  },
  {
   "cell_type": "code",
   "execution_count": 12,
   "id": "efad1d32",
   "metadata": {},
   "outputs": [
    {
     "name": "stdout",
     "output_type": "stream",
     "text": [
      "\n",
      "Date range-rom 26-9-2001:\n",
      " 2000-09-26   -1.606741\n",
      "2000-09-27    0.463094\n",
      "2000-09-28    2.030920\n",
      "2000-09-29   -1.524577\n",
      "2000-09-30   -2.035963\n",
      "                ...   \n",
      "2002-09-22    1.020837\n",
      "2002-09-23    0.825428\n",
      "2002-09-24   -0.514563\n",
      "2002-09-25   -2.493246\n",
      "2002-09-26   -0.710622\n",
      "Freq: D, Length: 731, dtype: float64\n"
     ]
    }
   ],
   "source": [
    "print(\"\\nDate range-rom 26-9-2001:\\n\",longer_ts[datetime(2000,9,26):])"
   ]
  },
  {
   "cell_type": "code",
   "execution_count": 13,
   "id": "66e2bff7",
   "metadata": {},
   "outputs": [
    {
     "name": "stdout",
     "output_type": "stream",
     "text": [
      "\n",
      "Date range from 26-9-2001 to 25-9-2002:\n",
      " 2001-09-26   -0.293131\n",
      "2001-09-27    0.862740\n",
      "2001-09-28    1.431035\n",
      "2001-09-29   -1.413706\n",
      "2001-09-30    0.785396\n",
      "                ...   \n",
      "2002-09-21    0.165436\n",
      "2002-09-22    1.020837\n",
      "2002-09-23    0.825428\n",
      "2002-09-24   -0.514563\n",
      "2002-09-25   -2.493246\n",
      "Freq: D, Length: 365, dtype: float64\n"
     ]
    }
   ],
   "source": [
    "print(\"\\nDate range from 26-9-2001 to 25-9-2002:\\n\",longer_ts[datetime(2001,9,26):datetime(2002,9,25)])"
   ]
  },
  {
   "cell_type": "code",
   "execution_count": null,
   "id": "1b2ed499",
   "metadata": {},
   "outputs": [],
   "source": []
  }
 ],
 "metadata": {
  "kernelspec": {
   "display_name": "Python 3 (ipykernel)",
   "language": "python",
   "name": "python3"
  },
  "language_info": {
   "codemirror_mode": {
    "name": "ipython",
    "version": 3
   },
   "file_extension": ".py",
   "mimetype": "text/x-python",
   "name": "python",
   "nbconvert_exporter": "python",
   "pygments_lexer": "ipython3",
   "version": "3.11.5"
  }
 },
 "nbformat": 4,
 "nbformat_minor": 5
}
