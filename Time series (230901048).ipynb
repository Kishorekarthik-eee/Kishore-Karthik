{
 "cells": [
  {
   "cell_type": "code",
   "execution_count": 10,
   "id": "679170d2",
   "metadata": {},
   "outputs": [
    {
     "name": "stdout",
     "output_type": "stream",
     "text": [
      "today_now function: 2025-04-11 10:40:23.837250\n"
     ]
    }
   ],
   "source": [
    "import datetime\n",
    "a = datetime.datetime.now()\n",
    "print(\"today_now function:\", a)"
   ]
  },
  {
   "cell_type": "code",
   "execution_count": 11,
   "id": "361ef3fa",
   "metadata": {},
   "outputs": [
    {
     "name": "stdout",
     "output_type": "stream",
     "text": [
      "\n",
      " today: 2025-04-11 10:40:25.403942\n"
     ]
    }
   ],
   "source": [
    "today = datetime.datetime.today()\n",
    "print(\"\\n today:\", today)"
   ]
  },
  {
   "cell_type": "code",
   "execution_count": 15,
   "id": "1595924b",
   "metadata": {},
   "outputs": [
    {
     "name": "stdout",
     "output_type": "stream",
     "text": [
      "\n",
      " tomorrow: 2025-04-14 10:40:25.403942\n"
     ]
    }
   ],
   "source": [
    "tomorrow = today + datetime.timedelta(days=3)\n",
    "print(\"\\n tomorrow:\",tomorrow)"
   ]
  },
  {
   "cell_type": "code",
   "execution_count": 16,
   "id": "d8797545",
   "metadata": {},
   "outputs": [
    {
     "name": "stdout",
     "output_type": "stream",
     "text": [
      "\n",
      " yesterday: 2025-04-08 10:40:25.403942\n"
     ]
    }
   ],
   "source": [
    "yesterday = today - datetime.timedelta(days=3)\n",
    "print(\"\\n yesterday:\",yesterday)"
   ]
  },
  {
   "cell_type": "code",
   "execution_count": 17,
   "id": "4adfb2c4",
   "metadata": {},
   "outputs": [
    {
     "name": "stdout",
     "output_type": "stream",
     "text": [
      "dateformat[2020,6,8,23,10,25,404040]: 2020-06-08 23:10:25.404040\n"
     ]
    }
   ],
   "source": [
    "a = datetime.datetime.now()\n",
    "b = datetime.datetime(2020,6,8,23,10,25,404040)\n",
    "print(\"dateformat[2020,6,8,23,10,25,404040]:\",b)"
   ]
  },
  {
   "cell_type": "code",
   "execution_count": 19,
   "id": "a438074a",
   "metadata": {},
   "outputs": [
    {
     "name": "stdout",
     "output_type": "stream",
     "text": [
      "\n",
      " Replacing date 2024-12-31 2024-12-15\n"
     ]
    }
   ],
   "source": [
    "from datetime import date\n",
    "d = date(2024,12,31)\n",
    "print(\"\\n Replacing date\",d,d.replace(day = 15))"
   ]
  },
  {
   "cell_type": "code",
   "execution_count": 20,
   "id": "2a6c3095",
   "metadata": {},
   "outputs": [
    {
     "name": "stdout",
     "output_type": "stream",
     "text": [
      "\n",
      " Today: 2025-04-11\n",
      "Current year: 2025\n",
      "Current month: 4\n",
      "Current day: 11\n"
     ]
    }
   ],
   "source": [
    "today = date.today()\n",
    "print(\"\\n Today:\",today)\n",
    "print(\"Current year:\",today.year)\n",
    "print(\"Current month:\",today.month)\n",
    "print(\"Current day:\",today.day)"
   ]
  },
  {
   "cell_type": "code",
   "execution_count": null,
   "id": "e80b79b8",
   "metadata": {},
   "outputs": [],
   "source": []
  }
 ],
 "metadata": {
  "kernelspec": {
   "display_name": "Python 3 (ipykernel)",
   "language": "python",
   "name": "python3"
  },
  "language_info": {
   "codemirror_mode": {
    "name": "ipython",
    "version": 3
   },
   "file_extension": ".py",
   "mimetype": "text/x-python",
   "name": "python",
   "nbconvert_exporter": "python",
   "pygments_lexer": "ipython3",
   "version": "3.11.5"
  }
 },
 "nbformat": 4,
 "nbformat_minor": 5
}
