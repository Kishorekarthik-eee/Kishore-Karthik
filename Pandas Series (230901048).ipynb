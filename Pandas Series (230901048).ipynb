{
 "cells": [
  {
   "cell_type": "code",
   "execution_count": 17,
   "id": "65365f2c",
   "metadata": {},
   "outputs": [
    {
     "name": "stdout",
     "output_type": "stream",
     "text": [
      "['k' 'i' 's' 'h' 'o' 'r' 'e']\n",
      "0    k\n",
      "1    i\n",
      "2    s\n",
      "3    h\n",
      "4    o\n",
      "5    r\n",
      "6    e\n",
      "dtype: object\n"
     ]
    }
   ],
   "source": [
    "import pandas as pd\n",
    "import numpy as np\n",
    "\n",
    "a = np.array(['k','i','s','h','o','r','e'])\n",
    "b = pd.Series(a)\n",
    "print(a)\n",
    "print(b)\n"
   ]
  },
  {
   "cell_type": "code",
   "execution_count": 8,
   "id": "ad752e6e",
   "metadata": {},
   "outputs": [
    {
     "name": "stdout",
     "output_type": "stream",
     "text": [
      "a    0\n",
      "b    1\n",
      "c    2\n",
      "dtype: int64\n"
     ]
    }
   ],
   "source": [
    "import pandas as pd\n",
    "import numpy as np\n",
    "a = {'a':0,'b':1,'c':2}\n",
    "b = pd.Series(a)\n",
    "print(b)"
   ]
  },
  {
   "cell_type": "code",
   "execution_count": 11,
   "id": "89f9231a",
   "metadata": {},
   "outputs": [
    {
     "name": "stdout",
     "output_type": "stream",
     "text": [
      "0    4\n",
      "1    4\n",
      "2    4\n",
      "3    4\n",
      "dtype: int64\n"
     ]
    }
   ],
   "source": [
    "import pandas as pd\n",
    "import numpy as np\n",
    "a = pd.Series(4,index=[0,1,2,3])\n",
    "print(a)\n"
   ]
  },
  {
   "cell_type": "code",
   "execution_count": 18,
   "id": "586d8e28",
   "metadata": {},
   "outputs": [
    {
     "name": "stdout",
     "output_type": "stream",
     "text": [
      "\n",
      " Series: \n",
      " 0    k\n",
      "1    i\n",
      "2    s\n",
      "3    h\n",
      "4    o\n",
      "5    r\n",
      "6    e\n",
      "dtype: object\n",
      "\n",
      " Index: \n",
      " RangeIndex(start=0, stop=7, step=1)\n",
      "\n",
      " Values: \n",
      " ['k' 'i' 's' 'h' 'o' 'r' 'e']\n",
      "\n",
      " Shape: \n",
      " (7,)\n",
      "\n",
      " Dimension: \n",
      " 1\n",
      "\n",
      " Size: \n",
      " 7\n"
     ]
    }
   ],
   "source": [
    "print(\"\\n Series: \\n\",b)\n",
    "print(\"\\n Index: \\n\",b.index)\n",
    "print(\"\\n Values: \\n\",b.values)\n",
    "print(\"\\n Shape: \\n\",b.shape)\n",
    "print(\"\\n Dimension: \\n\",b.ndim)\n",
    "print(\"\\n Size: \\n\",b.size)"
   ]
  },
  {
   "cell_type": "code",
   "execution_count": null,
   "id": "ecd0826f",
   "metadata": {},
   "outputs": [],
   "source": []
  }
 ],
 "metadata": {
  "kernelspec": {
   "display_name": "Python 3 (ipykernel)",
   "language": "python",
   "name": "python3"
  },
  "language_info": {
   "codemirror_mode": {
    "name": "ipython",
    "version": 3
   },
   "file_extension": ".py",
   "mimetype": "text/x-python",
   "name": "python",
   "nbconvert_exporter": "python",
   "pygments_lexer": "ipython3",
   "version": "3.11.5"
  }
 },
 "nbformat": 4,
 "nbformat_minor": 5
}
