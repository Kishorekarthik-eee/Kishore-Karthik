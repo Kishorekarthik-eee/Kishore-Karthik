{
 "cells": [
  {
   "cell_type": "code",
   "execution_count": 5,
   "id": "0c94a40d",
   "metadata": {},
   "outputs": [
    {
     "name": "stdout",
     "output_type": "stream",
     "text": [
      "\n",
      " Original Dataframe: \n",
      "    S  R\n",
      "0  3  9\n",
      "1  3  9\n",
      "2  3  9\n",
      "3  3  9\n",
      "\n",
      " Square root : \n",
      "           S    R\n",
      "0  1.732051  3.0\n",
      "1  1.732051  3.0\n",
      "2  1.732051  3.0\n",
      "3  1.732051  3.0\n",
      "\n",
      " Sum of each column: \n",
      " S    12\n",
      "R    36\n",
      "dtype: int64\n",
      "\n",
      " Sum of each row: \n",
      " 0    12\n",
      "1    12\n",
      "2    12\n",
      "3    12\n",
      "dtype: int64\n"
     ]
    }
   ],
   "source": [
    "import pandas as pd\n",
    "import numpy as np\n",
    "info = pd.DataFrame([[3,9]]*4,columns = ['S','R'])\n",
    "print(\"\\n Original Dataframe: \\n\",info)\n",
    "print(\"\\n Square root : \\n\",info.apply(np.sqrt))\n",
    "print(\"\\n Sum of each column: \\n\",info.apply(np.sum,axis=0))\n",
    "print(\"\\n Sum of each row: \\n\",info.apply(np.sum,axis=1))"
   ]
  },
  {
   "cell_type": "code",
   "execution_count": 8,
   "id": "aa72c845",
   "metadata": {},
   "outputs": [
    {
     "name": "stdout",
     "output_type": "stream",
     "text": [
      "   X  Y  Z\n",
      "0  2  4  6\n",
      "1  1  3  5\n",
      "2  5  8  7\n",
      "     X  Y  Z\n",
      "min  1  3  5\n",
      "max  5  8  7\n"
     ]
    }
   ],
   "source": [
    "import pandas as pd \n",
    "import numpy as np\n",
    "info = pd.DataFrame([[2,4,6],[1,3,5],[5,8,7]],columns=['X','Y','Z'])\n",
    "print(info)\n",
    "print(info.agg(['min','max']))"
   ]
  },
  {
   "cell_type": "code",
   "execution_count": 14,
   "id": "604f6905",
   "metadata": {},
   "outputs": [
    {
     "name": "stdout",
     "output_type": "stream",
     "text": [
      "  Employee name  ID\n",
      "0           sai  88\n",
      "1           poo  70\n",
      "Adding a new column: \n",
      "   Employee name  ID  Age\n",
      "0           sai  88   20\n",
      "1           poo  70   18\n",
      "Adding a new column \n",
      "   Employee name  ID  Age   Sex\n",
      "0           sai  88   20  Male\n",
      "1           poo  70   18  Male\n"
     ]
    }
   ],
   "source": [
    "#create a random dataset\n",
    "import pandas as pd\n",
    "import numpy as np\n",
    "a = pd.DataFrame([['sai',88],['poo',70]],columns = ['Employee name','ID'])\n",
    "print(a)\n",
    "a['Age'] = [20,18]\n",
    "print(\"Adding a new column: \\n\",a)\n",
    "a['Sex'] = ['Male','Male']\n",
    "print(\"Adding a new column \\n\",a)\n",
    "b = a.assign(Age=[20,18])"
   ]
  },
  {
   "cell_type": "code",
   "execution_count": 17,
   "id": "3a146f39",
   "metadata": {},
   "outputs": [
    {
     "name": "stdout",
     "output_type": "stream",
     "text": [
      "       col3      col4\n",
      "3  0.216856  0.162846\n",
      "2  0.535190  0.879236\n",
      "0  0.920624  0.573804\n",
      "4  0.318030  0.172329\n",
      "1  0.043130  0.604663\n",
      "       col3      col4\n",
      "0  0.920624  0.573804\n",
      "1  0.043130  0.604663\n",
      "2  0.535190  0.879236\n",
      "3  0.216856  0.162846\n",
      "4  0.318030  0.172329\n",
      "       col3      col4\n",
      "1  0.043130  0.604663\n",
      "3  0.216856  0.162846\n",
      "4  0.318030  0.172329\n",
      "2  0.535190  0.879236\n",
      "0  0.920624  0.573804\n"
     ]
    }
   ],
   "source": [
    "import pandas as pd\n",
    "info = pd.DataFrame(np.random.random((5,2)),index = [3,2,0,4,1],columns = ['col3','col4'])\n",
    "print(info)\n",
    "info2 = info.sort_index()\n",
    "print(info2)\n",
    "info3 = info.sort_values(by='col3')\n",
    "print(info3)"
   ]
  },
  {
   "cell_type": "code",
   "execution_count": 2,
   "id": "1d92f3ad",
   "metadata": {},
   "outputs": [
    {
     "name": "stdout",
     "output_type": "stream",
     "text": [
      "   id  Name   Sub\n",
      "0   1   Sai  sub1\n",
      "1   2   Poo  sub2\n",
      "2   3  Saba  sub3\n",
      "3   4  Yuvi  sub4\n",
      "   id    Name   Sub\n",
      "0   1  Sanjay  sub2\n",
      "1   2   Saran  sub4\n",
      "2   3     Som  sub3\n",
      "3   4    Ruba  sub5\n",
      "   id Name_x Sub_x  Name_y Sub_y\n",
      "0   1    Sai  sub1  Sanjay  sub2\n",
      "1   2    Poo  sub2   Saran  sub4\n",
      "2   3   Saba  sub3     Som  sub3\n",
      "3   4   Yuvi  sub4    Ruba  sub5\n"
     ]
    }
   ],
   "source": [
    "import pandas as pd\n",
    "import numpy as np\n",
    "left = pd.DataFrame({'id':[1,2,3,4],'Name':['Sai','Poo','Saba','Yuvi'],'Sub':['sub1','sub2','sub3','sub4']})\n",
    "right = pd.DataFrame({'id':[1,2,3,4],'Name':['Sanjay','Saran','Som','Ruba'],'Sub':['sub2','sub4','sub3','sub5']})\n",
    "print(left)\n",
    "print(right)\n",
    "print(pd.merge(left,right,on=\"id\"))"
   ]
  },
  {
   "cell_type": "code",
   "execution_count": null,
   "id": "3eabc6ec",
   "metadata": {},
   "outputs": [],
   "source": []
  }
 ],
 "metadata": {
  "kernelspec": {
   "display_name": "Python 3 (ipykernel)",
   "language": "python",
   "name": "python3"
  },
  "language_info": {
   "codemirror_mode": {
    "name": "ipython",
    "version": 3
   },
   "file_extension": ".py",
   "mimetype": "text/x-python",
   "name": "python",
   "nbconvert_exporter": "python",
   "pygments_lexer": "ipython3",
   "version": "3.11.5"
  }
 },
 "nbformat": 4,
 "nbformat_minor": 5
}
