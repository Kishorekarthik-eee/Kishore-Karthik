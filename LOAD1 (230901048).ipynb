{
 "cells": [
  {
   "cell_type": "code",
   "execution_count": 32,
   "id": "807f4e19",
   "metadata": {},
   "outputs": [
    {
     "name": "stdout",
     "output_type": "stream",
     "text": [
      "    S.no First Name   Gender  Login Time (AM)    Salary  Bonus(%)  \\\n",
      "0      1       Alexa  Female               12    50,000        39   \n",
      "1      2        Brad    Male               10  1,00,000        40   \n",
      "2      3       Tobey    Male                8    75,000        50   \n",
      "3      4         Leo    Male               11    80,000         4   \n",
      "4      5        Emma  Female               11    25,000        18   \n",
      "..   ...         ...     ...              ...       ...       ...   \n",
      "95    96      Mathew    Male               11    30,000        22   \n",
      "96    97    Hermoine  Female                8  1,50,000        27   \n",
      "97    98       Harry    Male                8    40,000        28   \n",
      "98    99      Cedric    Male                9    35,000         9   \n",
      "99   100    Hamilton    Male               11    65,000        14   \n",
      "\n",
      "   Team(Department)  \n",
      "0        Electrical  \n",
      "1                IT  \n",
      "2                IT  \n",
      "3                IT  \n",
      "4        Electrical  \n",
      "..              ...  \n",
      "95       Electrical  \n",
      "96       Electrical  \n",
      "97               IT  \n",
      "98               IT  \n",
      "99               IT  \n",
      "\n",
      "[100 rows x 7 columns]\n"
     ]
    }
   ],
   "source": [
    "import pandas as pd\n",
    "d=pd.read_csv(\"Kishore (230901048) - Sheet1 (2).csv\")\n",
    "print(d)"
   ]
  },
  {
   "cell_type": "code",
   "execution_count": 33,
   "id": "80b11aed",
   "metadata": {},
   "outputs": [
    {
     "name": "stdout",
     "output_type": "stream",
     "text": [
      "Columns Index(['S.no', 'First Name ', 'Gender', 'Login Time (AM)', 'Salary',\n",
      "       'Bonus(%)', 'Team(Department)'],\n",
      "      dtype='object')\n",
      "(100, 7)\n"
     ]
    }
   ],
   "source": [
    "df = pd.DataFrame(d)\n",
    "print(\"Columns\",df.columns)\n",
    "print(df.shape)"
   ]
  },
  {
   "cell_type": "code",
   "execution_count": 34,
   "id": "b0d9cd2c",
   "metadata": {},
   "outputs": [
    {
     "name": "stdout",
     "output_type": "stream",
     "text": [
      "Team 0     Electrical\n",
      "1             IT\n",
      "2             IT\n",
      "3             IT\n",
      "4     Electrical\n",
      "         ...    \n",
      "95    Electrical\n",
      "96    Electrical\n",
      "97            IT\n",
      "98            IT\n",
      "99            IT\n",
      "Name: Team(Department), Length: 100, dtype: object\n"
     ]
    }
   ],
   "source": [
    "import pandas as pd\n",
    "d=pd.read_csv(\"Kishore (230901048) - Sheet1.csv\")\n",
    "\n",
    "\n",
    "print(\"Team\", df['Team(Department)'])\n",
    "\n",
    "\n"
   ]
  },
  {
   "cell_type": "code",
   "execution_count": 35,
   "id": "4a302288",
   "metadata": {},
   "outputs": [
    {
     "name": "stdout",
     "output_type": "stream",
     "text": [
      "   S.no First Name   Gender  Login Time (AM)    Salary  Bonus(%)  \\\n",
      "5     6      Mathew    Male                8    30,000        35   \n",
      "6     7    Hermoine  Female                8  1,50,000        41   \n",
      "7     8       Harry    Male               12    40,000         1   \n",
      "8     9      Cedric    Male               11    35,000        21   \n",
      "9    10    Hamilton    Male               11    65,000        39   \n",
      "\n",
      "  Team(Department)  \n",
      "5       Electrical  \n",
      "6       Electrical  \n",
      "7               IT  \n",
      "8               IT  \n",
      "9               IT  \n"
     ]
    }
   ],
   "source": [
    "print(df[5:10])"
   ]
  },
  {
   "cell_type": "code",
   "execution_count": 36,
   "id": "44546b49",
   "metadata": {},
   "outputs": [
    {
     "name": "stdout",
     "output_type": "stream",
     "text": [
      "Particular Person details S.no                         6\n",
      "First Name              Mathew\n",
      "Gender                    Male\n",
      "Login Time (AM)              8\n",
      "Salary                  30,000\n",
      "Bonus(%)                    35\n",
      "Team(Department)    Electrical\n",
      "Name: 5, dtype: object\n"
     ]
    }
   ],
   "source": [
    "print(\"Particular Person details\",df.loc[5])"
   ]
  },
  {
   "cell_type": "code",
   "execution_count": 47,
   "id": "e873bd99",
   "metadata": {},
   "outputs": [
    {
     "name": "stdout",
     "output_type": "stream",
     "text": [
      "    S.no First Name Gender  Login Time (AM)    Salary  Bonus(%)  \\\n",
      "1      2       Brad   Male               10  100000.0        40   \n",
      "11    12       Brad   Male                9  100000.0         7   \n",
      "21    22       Brad   Male                9  100000.0        14   \n",
      "31    32       Brad   Male               10  100000.0        35   \n",
      "41    42       Brad   Male                9  100000.0        27   \n",
      "51    52       Brad   Male               12  100000.0        10   \n",
      "61    62       Brad   Male                9  100000.0        46   \n",
      "71    72       Brad   Male                9  100000.0        24   \n",
      "81    82       Brad   Male               10  100000.0        43   \n",
      "91    92       Brad   Male                8  100000.0        42   \n",
      "\n",
      "   Team(Department)  \n",
      "1                IT  \n",
      "11               IT  \n",
      "21               IT  \n",
      "31               IT  \n",
      "41               IT  \n",
      "51               IT  \n",
      "61               IT  \n",
      "71               IT  \n",
      "81               IT  \n",
      "91               IT  \n"
     ]
    }
   ],
   "source": [
    "import pandas as pd\n",
    "\n",
    "# Read the CSV file\n",
    "d = pd.read_csv(\"Kishore (230901048) - Sheet1 (4).csv\")\n",
    "\n",
    "# Clean column names and values\n",
    "d.columns = d.columns.str.strip()  # Remove spaces from column names\n",
    "d['Salary'] = pd.to_numeric(d['Salary'], errors='coerce')  # Convert Salary to numeric\n",
    "\n",
    "# Check for the value 100000\n",
    "print(d.loc[d['Salary'] == 100000])\n"
   ]
  },
  {
   "cell_type": "code",
   "execution_count": 46,
   "id": "4b38d1a3",
   "metadata": {},
   "outputs": [
    {
     "name": "stdout",
     "output_type": "stream",
     "text": [
      "0      50.050050\n",
      "1     100.100100\n",
      "2      75.075075\n",
      "3      80.080080\n",
      "4      25.025025\n",
      "         ...    \n",
      "95     30.030030\n",
      "96           NaN\n",
      "97     40.040040\n",
      "98     35.035035\n",
      "99     65.065065\n",
      "Name: Salary, Length: 100, dtype: float64\n"
     ]
    }
   ],
   "source": [
    "import pandas as pd\n",
    "\n",
    "# Read the CSV file\n",
    "d = pd.read_csv(\"Kishore (230901048) - Sheet1 (4).csv\")\n",
    "\n",
    "# Convert the 'Salary' column to numeric, invalid values become NaN\n",
    "d['Salary'] = pd.to_numeric(d['Salary'], errors='coerce')\n",
    "\n",
    "# Perform the division\n",
    "df = d['Salary'] / 999\n",
    "\n",
    "# Print the result\n",
    "print(df)\n"
   ]
  },
  {
   "cell_type": "code",
   "execution_count": null,
   "id": "80587a29",
   "metadata": {},
   "outputs": [],
   "source": []
  }
 ],
 "metadata": {
  "kernelspec": {
   "display_name": "Python 3 (ipykernel)",
   "language": "python",
   "name": "python3"
  },
  "language_info": {
   "codemirror_mode": {
    "name": "ipython",
    "version": 3
   },
   "file_extension": ".py",
   "mimetype": "text/x-python",
   "name": "python",
   "nbconvert_exporter": "python",
   "pygments_lexer": "ipython3",
   "version": "3.11.5"
  }
 },
 "nbformat": 4,
 "nbformat_minor": 5
}
