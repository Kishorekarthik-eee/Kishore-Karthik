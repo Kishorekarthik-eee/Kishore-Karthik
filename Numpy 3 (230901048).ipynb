{
 "cells": [
  {
   "cell_type": "code",
   "execution_count": 3,
   "id": "e23fe7cc",
   "metadata": {},
   "outputs": [
    {
     "name": "stdout",
     "output_type": "stream",
     "text": [
      "(array([1, 4]),)\n",
      "(array([3]),)\n"
     ]
    }
   ],
   "source": [
    "import numpy as np\n",
    "a =np.array([1,6,2,7,6,4])\n",
    "x = np.where(a==6)\n",
    "y = np.where(a==7)\n",
    "print(x)\n",
    "print(y)"
   ]
  },
  {
   "cell_type": "code",
   "execution_count": 5,
   "id": "e95f16df",
   "metadata": {},
   "outputs": [
    {
     "name": "stdout",
     "output_type": "stream",
     "text": [
      "(array([1, 2, 4, 5]),)\n",
      "(array([0, 3, 5]),)\n"
     ]
    }
   ],
   "source": [
    "import numpy as np\n",
    "a =np.array([1,6,2,7,6,4])\n",
    "x = np.where(a%2==0)\n",
    "y = np.where(a%3==1)\n",
    "print(x)\n",
    "print(y)"
   ]
  },
  {
   "cell_type": "code",
   "execution_count": 10,
   "id": "af49cb44",
   "metadata": {},
   "outputs": [
    {
     "name": "stdout",
     "output_type": "stream",
     "text": [
      "Left=  5\n",
      "Right=  6\n"
     ]
    }
   ],
   "source": [
    "import numpy as np\n",
    "a =np.array([0,1,2,2,7,8,9])\n",
    "x = np.searchsorted(a,8,side='right')\n",
    "y = np.searchsorted(a,8,side='left')\n",
    "print(\"Left= \",y)\n",
    "print(\"Right= \",x)\n"
   ]
  },
  {
   "cell_type": "code",
   "execution_count": 12,
   "id": "c060b107",
   "metadata": {},
   "outputs": [
    {
     "name": "stdout",
     "output_type": "stream",
     "text": [
      "[2 4 5 6 7 9]\n",
      "[[4 7 9]\n",
      " [1 4 9]]\n"
     ]
    }
   ],
   "source": [
    "import numpy as np\n",
    "a = np.array([9,5,2,7,6,4])\n",
    "print(np.sort(a))\n",
    "b = np.array([[7,4,9],[9,1,4]])\n",
    "print(np.sort(b))"
   ]
  },
  {
   "cell_type": "code",
   "execution_count": 15,
   "id": "97bfcbdb",
   "metadata": {},
   "outputs": [
    {
     "name": "stdout",
     "output_type": "stream",
     "text": [
      "[False, True, True, False]\n",
      "[78 69]\n"
     ]
    }
   ],
   "source": [
    "import numpy as np\n",
    "a = np.array([31,78,69,88])\n",
    "x = [False,True,True,False]\n",
    "new = a[x]\n",
    "print(x)\n",
    "print(new)\n"
   ]
  },
  {
   "cell_type": "code",
   "execution_count": 16,
   "id": "335478d4",
   "metadata": {},
   "outputs": [
    {
     "name": "stdout",
     "output_type": "stream",
     "text": [
      "[False  True False  True]\n",
      "[78 88]\n"
     ]
    }
   ],
   "source": [
    "import numpy as np\n",
    "a = np.array([31,78,69,88])\n",
    "filter_a = a>70\n",
    "new = a[filter_a]\n",
    "print(filter_a)\n",
    "print(new)\n"
   ]
  },
  {
   "cell_type": "code",
   "execution_count": null,
   "id": "04bfe1f0",
   "metadata": {},
   "outputs": [],
   "source": []
  }
 ],
 "metadata": {
  "kernelspec": {
   "display_name": "Python 3 (ipykernel)",
   "language": "python",
   "name": "python3"
  },
  "language_info": {
   "codemirror_mode": {
    "name": "ipython",
    "version": 3
   },
   "file_extension": ".py",
   "mimetype": "text/x-python",
   "name": "python",
   "nbconvert_exporter": "python",
   "pygments_lexer": "ipython3",
   "version": "3.11.5"
  }
 },
 "nbformat": 4,
 "nbformat_minor": 5
}
