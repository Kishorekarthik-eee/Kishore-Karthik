{
 "cells": [
  {
   "cell_type": "code",
   "execution_count": 2,
   "id": "a9fb0322",
   "metadata": {},
   "outputs": [
    {
     "name": "stdout",
     "output_type": "stream",
     "text": [
      "Empty DataFrame\n",
      "Columns: []\n",
      "Index: []\n"
     ]
    }
   ],
   "source": [
    "import pandas as pd\n",
    "df = pd.DataFrame()\n",
    "print(df)"
   ]
  },
  {
   "cell_type": "code",
   "execution_count": 3,
   "id": "9ab6bf3a",
   "metadata": {},
   "outputs": [
    {
     "name": "stdout",
     "output_type": "stream",
     "text": [
      "\n",
      "Series to data frame\n",
      "\n",
      "      Emp  Id\n",
      "0     uma  10\n",
      "1    siva  20\n",
      "2  sindhu  30\n",
      "3    rare  40\n",
      "\n",
      " Extracting one column\n",
      "0       uma\n",
      "1      siva\n",
      "2    sindhu\n",
      "3      rare\n",
      "Name: Emp, dtype: object\n"
     ]
    }
   ],
   "source": [
    "import pandas as pd\n",
    "emp=pd.Series(['uma','siva','sindhu','rare'])\n",
    "id=pd.Series([10,20,30,40])\n",
    "Frame={'Emp':emp,'Id':id}\n",
    "result=pd.DataFrame(Frame)\n",
    "print(\"\\nSeries to data frame\\n\")\n",
    "print(result)\n",
    "print(\"\\n Extracting one column\")\n",
    "print(result['Emp'])"
   ]
  },
  {
   "cell_type": "code",
   "execution_count": 4,
   "id": "b1ed387f",
   "metadata": {},
   "outputs": [
    {
     "name": "stdout",
     "output_type": "stream",
     "text": [
      "      Emp  Id  Age\n",
      "0     uma  10   20\n",
      "1    siva  20   25\n",
      "2  sindhu  30   30\n",
      "3    rare  40   50\n"
     ]
    }
   ],
   "source": [
    "#Adding a new column\n",
    "result['Age']=pd.Series([20,25,30,50])\n",
    "print(result)"
   ]
  },
  {
   "cell_type": "code",
   "execution_count": 5,
   "id": "34bc3403",
   "metadata": {},
   "outputs": [
    {
     "name": "stdout",
     "output_type": "stream",
     "text": [
      "      Emp  Id\n",
      "0     uma  10\n",
      "1    siva  20\n",
      "2  sindhu  30\n",
      "3    rare  40\n"
     ]
    }
   ],
   "source": [
    "#Delete a existing column\n",
    "del result['Age']\n",
    "print(result)"
   ]
  },
  {
   "cell_type": "code",
   "execution_count": 6,
   "id": "0d0ecf5f",
   "metadata": {},
   "outputs": [
    {
     "name": "stdout",
     "output_type": "stream",
     "text": [
      "\n",
      " Extracting second row \n",
      "\n",
      "Emp    siva\n",
      "Id       20\n",
      "Name: 1, dtype: object\n"
     ]
    }
   ],
   "source": [
    "#Extracting row\n",
    "print(\"\\n Extracting second row \\n\")\n",
    "print(result.loc[1])"
   ]
  },
  {
   "cell_type": "code",
   "execution_count": 7,
   "id": "50e60b67",
   "metadata": {},
   "outputs": [
    {
     "name": "stdout",
     "output_type": "stream",
     "text": [
      "Slice rows: \n",
      "       Emp  Id\n",
      "1    siva  20\n",
      "2  sindhu  30\n"
     ]
    }
   ],
   "source": [
    "#Slice\n",
    "print(\"Slice rows: \\n\",result[1:3])"
   ]
  },
  {
   "cell_type": "code",
   "execution_count": 8,
   "id": "803b0dca",
   "metadata": {},
   "outputs": [
    {
     "name": "stdout",
     "output_type": "stream",
     "text": [
      "\n",
      " Adding new row values \n",
      "          Emp    Id    0\n",
      "0        uma  10.0  NaN\n",
      "1       siva  20.0  NaN\n",
      "2     sindhu  30.0  NaN\n",
      "3       rare  40.0  NaN\n",
      "Jinu     NaN   NaN  Anu\n",
      "19       NaN   NaN   20\n"
     ]
    }
   ],
   "source": [
    "#concatination\n",
    "d2 = pd.DataFrame(['Anu',20],['Jinu',19])\n",
    "columns = ['Emp','Id']\n",
    "print(\"\\n Adding new row values \\n\",pd.concat([result,d2]))"
   ]
  },
  {
   "cell_type": "code",
   "execution_count": 9,
   "id": "2ba5a398",
   "metadata": {},
   "outputs": [
    {
     "name": "stdout",
     "output_type": "stream",
     "text": [
      "    Emp  Id\n",
      "0   uma  10\n",
      "1  siva  20\n",
      "3  rare  40\n"
     ]
    }
   ],
   "source": [
    "print(result.drop(2))"
   ]
  },
  {
   "cell_type": "code",
   "execution_count": null,
   "id": "8f240efd",
   "metadata": {},
   "outputs": [],
   "source": []
  }
 ],
 "metadata": {
  "kernelspec": {
   "display_name": "Python 3 (ipykernel)",
   "language": "python",
   "name": "python3"
  },
  "language_info": {
   "codemirror_mode": {
    "name": "ipython",
    "version": 3
   },
   "file_extension": ".py",
   "mimetype": "text/x-python",
   "name": "python",
   "nbconvert_exporter": "python",
   "pygments_lexer": "ipython3",
   "version": "3.11.5"
  }
 },
 "nbformat": 4,
 "nbformat_minor": 5
}
