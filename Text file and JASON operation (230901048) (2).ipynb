{
 "cells": [
  {
   "cell_type": "code",
   "execution_count": 7,
   "id": "ad17dc2e",
   "metadata": {},
   "outputs": [],
   "source": [
    "f = open(\"/Users/student/Downloads/saitf.txt\",\"w\")\n",
    "f.write(\"Wakeup early \\n\")\n",
    "f.write(\"Read daily\\n\")\n",
    "f.write(\"Be punctual \\n\")\n",
    "f.close()"
   ]
  },
  {
   "cell_type": "code",
   "execution_count": 9,
   "id": "3b7fd91e",
   "metadata": {},
   "outputs": [
    {
     "name": "stdout",
     "output_type": "stream",
     "text": [
      "Wakeup early \n",
      "\n",
      "Read daily\n",
      "\n",
      "Be punctual \n",
      "\n"
     ]
    }
   ],
   "source": [
    "a = open(\"/Users/student/Downloads/saitf.txt\",\"r\")\n",
    "print(a.readline())\n",
    "print(a.readline())\n",
    "print(a.readline())"
   ]
  },
  {
   "cell_type": "code",
   "execution_count": 10,
   "id": "f3bbf61f",
   "metadata": {},
   "outputs": [],
   "source": [
    "b = open(\"/Users/student/Downloads/saitf.txt\",\"a\")\n",
    "b.write(\"Bavani \\n\")\n",
    "b.write(\"Rithika \\n\")\n",
    "b.close()"
   ]
  },
  {
   "cell_type": "code",
   "execution_count": 11,
   "id": "6533cc2c",
   "metadata": {},
   "outputs": [
    {
     "name": "stdout",
     "output_type": "stream",
     "text": [
      "Wakeup early \n",
      "Read daily\n",
      "Be punctual \n",
      "Bavani \n",
      "Rithika \n",
      "\n"
     ]
    },
    {
     "data": {
      "text/plain": [
       "<function TextIOWrapper.close()>"
      ]
     },
     "execution_count": 11,
     "metadata": {},
     "output_type": "execute_result"
    }
   ],
   "source": [
    "c = open(\"/Users/student/Downloads/saitf.txt\",\"r\")\n",
    "print(c.read())\n",
    "c.close"
   ]
  },
  {
   "cell_type": "code",
   "execution_count": 14,
   "id": "bbdee98a",
   "metadata": {},
   "outputs": [
    {
     "name": "stdout",
     "output_type": "stream",
     "text": [
      "['Wakeup early \\n', 'Read daily\\n', 'Be punctual \\n', 'Bavani \\n', 'Rithika \\n']\n"
     ]
    }
   ],
   "source": [
    "with open(\"/Users/student/Downloads/saitf.txt\",\"r\") as file:\n",
    "    lines = file.readlines()\n",
    "print(lines)\n"
   ]
  },
  {
   "cell_type": "code",
   "execution_count": 16,
   "id": "092607b4",
   "metadata": {},
   "outputs": [
    {
     "name": "stdout",
     "output_type": "stream",
     "text": [
      "Delhi\n",
      "\"{\\\"name\\\":\\\"Sundar\\\",\\\"age\\\":\\\"25\\\",\\\"city\\\":\\\"Delhi\\\"}\"\n"
     ]
    }
   ],
   "source": [
    "import json\n",
    "x = '{\"name\":\"Sundar\",\"age\":\"25\",\"city\":\"Delhi\"}' \n",
    "y = json.loads(x)  \n",
    "print(y[\"city\"])  \n",
    "\n",
    "y = json.dumps(x)  \n",
    "print(y)\n"
   ]
  },
  {
   "cell_type": "code",
   "execution_count": 1,
   "id": "193029e7",
   "metadata": {},
   "outputs": [
    {
     "name": "stdout",
     "output_type": "stream",
     "text": [
      "Mumbai\n"
     ]
    }
   ],
   "source": [
    "import json\n",
    "X ='{\"Name\":\"Sundar\",\"Age\":25,\"City\":\"Mumbai\"}'\n",
    "Y = json.loads(X)\n",
    "print(Y[\"City\"])"
   ]
  },
  {
   "cell_type": "code",
   "execution_count": 4,
   "id": "f562645f",
   "metadata": {},
   "outputs": [
    {
     "name": "stdout",
     "output_type": "stream",
     "text": [
      "{\"Name\":\"Sundar\",\"Age\":25,\"City\":\"Mumbai\"}\n"
     ]
    }
   ],
   "source": [
    "import json\n",
    "X ='{\"Name\":\"Sundar\",\"Age\":25,\"City\":\"Mumbai\"}'\n",
    "Y = json.dumps(X)\n",
    "print(X)"
   ]
  },
  {
   "cell_type": "code",
   "execution_count": null,
   "id": "b2f8b225",
   "metadata": {},
   "outputs": [],
   "source": []
  }
 ],
 "metadata": {
  "kernelspec": {
   "display_name": "Python 3 (ipykernel)",
   "language": "python",
   "name": "python3"
  },
  "language_info": {
   "codemirror_mode": {
    "name": "ipython",
    "version": 3
   },
   "file_extension": ".py",
   "mimetype": "text/x-python",
   "name": "python",
   "nbconvert_exporter": "python",
   "pygments_lexer": "ipython3",
   "version": "3.11.5"
  }
 },
 "nbformat": 4,
 "nbformat_minor": 5
}
