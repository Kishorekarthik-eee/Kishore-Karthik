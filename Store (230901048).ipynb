{
 "cells": [
  {
   "cell_type": "code",
   "execution_count": 2,
   "id": "e47ff196",
   "metadata": {},
   "outputs": [
    {
     "name": "stdout",
     "output_type": "stream",
     "text": [
      "       a  b  c\n",
      "one    1  2  3\n",
      "two    4  5  6\n",
      "three  7  8  9\n"
     ]
    }
   ],
   "source": [
    "import pandas as pd\n",
    "df = pd.DataFrame([[1,2,3],[4,5,6],[7,8,9]],index = ['one','two','three'],columns = ['a','b','c'])\n",
    "print(df)"
   ]
  },
  {
   "cell_type": "code",
   "execution_count": 7,
   "id": "0a1380ab",
   "metadata": {},
   "outputs": [],
   "source": [
    "df.to_excel(\"/Users/student/Downloads/SHYAM.xlsx\")\n",
    "df.to_excel(\"/Users/student/Downloads/SUNDAR.xlsx\")"
   ]
  },
  {
   "cell_type": "code",
   "execution_count": 8,
   "id": "6f515ae4",
   "metadata": {},
   "outputs": [],
   "source": [
    "df = pd.DataFrame([[10,20,30],[40,50,60],[70,80,90]],index = ['Four','Five','Six'],columns = ['X','Y','Z'])\n",
    "df.to_excel(\"/Users/student/Downloads/SUNDAR.xlsx\")"
   ]
  },
  {
   "cell_type": "code",
   "execution_count": 9,
   "id": "60a9d759",
   "metadata": {},
   "outputs": [],
   "source": [
    "df = pd.DataFrame([[6,7],[1,2]],index = ['a','b'],columns = ['X','Y'])\n",
    "df.to_excel(\"/Users/student/Downloads/SHYAM.xlsx\")"
   ]
  },
  {
   "cell_type": "code",
   "execution_count": 3,
   "id": "f7dca1dc",
   "metadata": {},
   "outputs": [],
   "source": [
    "import pandas as pd\n",
    "x = pd.read_excel(\"/Users/student/Downloads/SHYAM.xlsx\")\n",
    "y = pd.read_excel(\"/Users/student/Downloads/SUNDAR.xlsx\")\n",
    "z = pd.concat([x, y], ignore_index=True)\n",
    "z.to_excel(\"/Users/student/Downloads/SS.xlsx\", index=False)\n"
   ]
  },
  {
   "cell_type": "code",
   "execution_count": 12,
   "id": "fddd4bb5",
   "metadata": {},
   "outputs": [
    {
     "name": "stdout",
     "output_type": "stream",
     "text": [
      "  Unnamed: 0   X   Y     Z\n",
      "1          b   1   2   NaN\n",
      "0          a   6   7   NaN\n",
      "2       Four  10  20  30.0\n",
      "3       Five  40  50  60.0\n",
      "4        Six  70  80  90.0\n",
      "  Unnamed: 0   X   Y     Z\n",
      "1          b   1   2   NaN\n",
      "0          a   6   7   NaN\n",
      "2       Four  10  20  30.0\n",
      "3       Five  40  50  60.0\n",
      "4        Six  70  80  90.0\n"
     ]
    }
   ],
   "source": [
    "df = z.sort_values([\"X\"])\n",
    "print(df)\n",
    "df.to_excel(\"/Users/student/Downloads/SS.xlsx\")\n",
    "df = z.sort_values([\"Y\"])\n",
    "print(df)\n",
    "df.to_excel(\"/Users/student/Downloads/SS.xlsx\")"
   ]
  },
  {
   "cell_type": "code",
   "execution_count": 14,
   "id": "edbfc009",
   "metadata": {},
   "outputs": [
    {
     "name": "stdout",
     "output_type": "stream",
     "text": [
      "   Unnamed: 0.1 Unnamed: 0   X   Y     Z\n",
      "0             1          b   1   2   NaN\n",
      "1             0          a   6   7   NaN\n",
      "2             2       Four  10  20  30.0\n",
      "3             3       Five  40  50  60.0\n",
      "4             4        Six  70  80  90.0\n",
      "['Unnamed: 0.1', 'Unnamed: 0', 'X', 'Y', 'Z']\n",
      "5\n"
     ]
    }
   ],
   "source": [
    "df =pd.read_excel(\"/Users/student/Downloads/SS.xlsx\")\n",
    "print(df)\n",
    "print(list(df))\n",
    "print(format(len(df)))"
   ]
  },
  {
   "cell_type": "code",
   "execution_count": null,
   "id": "7862aca0",
   "metadata": {},
   "outputs": [],
   "source": []
  }
 ],
 "metadata": {
  "kernelspec": {
   "display_name": "Python 3 (ipykernel)",
   "language": "python",
   "name": "python3"
  },
  "language_info": {
   "codemirror_mode": {
    "name": "ipython",
    "version": 3
   },
   "file_extension": ".py",
   "mimetype": "text/x-python",
   "name": "python",
   "nbconvert_exporter": "python",
   "pygments_lexer": "ipython3",
   "version": "3.11.5"
  }
 },
 "nbformat": 4,
 "nbformat_minor": 5
}
