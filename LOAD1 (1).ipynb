{
 "cells": [
  {
   "cell_type": "code",
   "execution_count": 17,
   "id": "6a8f21ef",
   "metadata": {},
   "outputs": [
    {
     "name": "stdout",
     "output_type": "stream",
     "text": [
      "    SNO FIRST NAME DESIGNATION  GENDER  LOGIN TIME  SALARY        TEAM\n",
      "0     1       Brad    Reviewer    MALE        2014  100000  HR:FINANCE\n",
      "1     2        Leo         CFA  FEMALE        2014  200000  PR:FINANCE\n",
      "2     3       Will         CPA    MALE        2014  650000  CR:FINANCE\n",
      "3     4     Mathew        FMVA  FEMALE        2014  839000  HR:FINANCE\n",
      "4     5       Hans        CAIA    MALE        2013  473930  PR:FINANCE\n",
      "..  ...        ...         ...     ...         ...     ...         ...\n",
      "94   95       Hans        FMVA  FEMALE        2013  473930  PR:FINANCE\n",
      "95   96       Anna        CAIA    MALE        2013  377820  CR:FINANCE\n",
      "96   97     Johnny         CFP  FEMALE        2013  100000  HR:FINANCE\n",
      "97   98      Amber         FRM  FEMALE        2013  200000  PR:FINANCE\n",
      "98   99      Jason    Reviewer    MALE        2013  650000  CR:FINANCE\n",
      "\n",
      "[99 rows x 7 columns]\n"
     ]
    }
   ],
   "source": [
    "import pandas as pd\n",
    "d=pd.read_csv(\"/Users/student/Downloads/KC CSV1 - Sheet1.csv\")\n",
    "print(d)"
   ]
  },
  {
   "cell_type": "code",
   "execution_count": 18,
   "id": "2ccc2f1b",
   "metadata": {},
   "outputs": [
    {
     "name": "stdout",
     "output_type": "stream",
     "text": [
      "Columns Index(['SNO', 'FIRST NAME', 'DESIGNATION', 'GENDER', 'LOGIN TIME', 'SALARY',\n",
      "       'TEAM'],\n",
      "      dtype='object')\n",
      "(99, 7)\n"
     ]
    }
   ],
   "source": [
    "import pandas as pd\n",
    "d=pd.read_csv(\"/Users/student/Downloads/KC CSV1 - Sheet1.csv\")\n",
    "df=pd.DataFrame(d)\n",
    "print(\"Columns\",df.columns)\n",
    "print(df.shape)"
   ]
  },
  {
   "cell_type": "code",
   "execution_count": 19,
   "id": "b05ec521",
   "metadata": {},
   "outputs": [
    {
     "name": "stdout",
     "output_type": "stream",
     "text": [
      "Team 0     HR:FINANCE\n",
      "1     PR:FINANCE\n",
      "2     CR:FINANCE\n",
      "3     HR:FINANCE\n",
      "4     PR:FINANCE\n",
      "         ...    \n",
      "94    PR:FINANCE\n",
      "95    CR:FINANCE\n",
      "96    HR:FINANCE\n",
      "97    PR:FINANCE\n",
      "98    CR:FINANCE\n",
      "Name: TEAM, Length: 99, dtype: object\n"
     ]
    }
   ],
   "source": [
    "import pandas as pd\n",
    "d=pd.read_csv(\"/Users/student/Downloads/KC CSV1 - Sheet1.csv\")\n",
    "print(\"Team\",df['TEAM'])"
   ]
  },
  {
   "cell_type": "code",
   "execution_count": 20,
   "id": "ba68a5c0",
   "metadata": {},
   "outputs": [
    {
     "name": "stdout",
     "output_type": "stream",
     "text": [
      "   SNO FIRST NAME DESIGNATION  GENDER  LOGIN TIME  SALARY        TEAM\n",
      "5    6       Anna         CFP    MALE        2013  377820  CR:FINANCE\n",
      "6    7     Johnny         FRM  FEMALE        2013  100000  HR:FINANCE\n",
      "7    8      Amber    Reviewer    MALE        2013  200000  PR:FINANCE\n",
      "8    9      Jason         CFA  FEMALE        2013  650000  CR:FINANCE\n",
      "9   10    Patrick         CPA  FEMALE        2013  839000  HR:FINANCE\n"
     ]
    }
   ],
   "source": [
    "import pandas as pd\n",
    "d=pd.read_csv(\"/Users/student/Downloads/KC CSV1 - Sheet1.csv\")\n",
    "print(df[5:10])"
   ]
  },
  {
   "cell_type": "code",
   "execution_count": 23,
   "id": "853ef536",
   "metadata": {},
   "outputs": [
    {
     "name": "stdout",
     "output_type": "stream",
     "text": [
      "Particular person details\n",
      " SNO                     3\n",
      "FIRST NAME           Will\n",
      "DESIGNATION           CPA\n",
      "GENDER               MALE\n",
      "LOGIN TIME           2014\n",
      "SALARY             650000\n",
      "TEAM           CR:FINANCE\n",
      "Name: 2, dtype: object\n"
     ]
    }
   ],
   "source": [
    "import pandas as pd\n",
    "d=pd.read_csv(\"/Users/student/Downloads/KC CSV1 - Sheet1.csv\")\n",
    "print(\"Particular person details\\n\",df.loc[2])"
   ]
  },
  {
   "cell_type": "code",
   "execution_count": 22,
   "id": "e23dcef6",
   "metadata": {},
   "outputs": [
    {
     "name": "stdout",
     "output_type": "stream",
     "text": [
      "    SNO FIRST NAME DESIGNATION  GENDER  LOGIN TIME  SALARY        TEAM\n",
      "0     1       Brad    Reviewer    MALE        2014  100000  HR:FINANCE\n",
      "6     7     Johnny         FRM  FEMALE        2013  100000  HR:FINANCE\n",
      "12   13       Will         CFP  FEMALE        2014  100000  HR:FINANCE\n",
      "18   19      Jason        CAIA    MALE        2013  100000  HR:FINANCE\n",
      "24   25       Hans        FMVA    MALE        2013  100000  HR:FINANCE\n",
      "30   31       Brad         CPA  FEMALE        2014  100000  HR:FINANCE\n",
      "36   37     Johnny         CFA  FEMALE        2013  100000  HR:FINANCE\n",
      "42   43       Will    Reviewer  FEMALE        2014  100000  HR:FINANCE\n",
      "48   49      Jason         FRM    MALE        2013  100000  HR:FINANCE\n",
      "54   55       Hans         CFP    MALE        2013  100000  HR:FINANCE\n",
      "60   61       Brad        CAIA    MALE        2014  100000  HR:FINANCE\n",
      "66   67     Johnny        FMVA    MALE        2013  100000  HR:FINANCE\n",
      "72   73       Will         CPA  FEMALE        2014  100000  HR:FINANCE\n",
      "78   79      Jason         CFA  FEMALE        2013  100000  HR:FINANCE\n",
      "84   85       Hans    Reviewer    MALE        2013  100000  HR:FINANCE\n",
      "90   91       Brad         FRM    MALE        2014  100000  HR:FINANCE\n",
      "96   97     Johnny         CFP  FEMALE        2013  100000  HR:FINANCE\n"
     ]
    }
   ],
   "source": [
    "import pandas as pd\n",
    "d=pd.read_csv(\"/Users/student/Downloads/KC CSV1 - Sheet1.csv\")\n",
    "print(d.loc[d['SALARY']==100000])"
   ]
  },
  {
   "cell_type": "code",
   "execution_count": 24,
   "id": "28c5503d",
   "metadata": {},
   "outputs": [
    {
     "name": "stdout",
     "output_type": "stream",
     "text": [
      "0     100.100100\n",
      "1     200.200200\n",
      "2     650.650651\n",
      "3     839.839840\n",
      "4     474.404404\n",
      "         ...    \n",
      "94    474.404404\n",
      "95    378.198198\n",
      "96    100.100100\n",
      "97    200.200200\n",
      "98    650.650651\n",
      "Name: SALARY, Length: 99, dtype: float64\n"
     ]
    }
   ],
   "source": [
    "import pandas as pd\n",
    "d=pd.read_csv(\"/Users/student/Downloads/KC CSV1 - Sheet1.csv\")\n",
    "df=d['SALARY']/999\n",
    "print(df)"
   ]
  }
 ],
 "metadata": {
  "kernelspec": {
   "display_name": "Python 3 (ipykernel)",
   "language": "python",
   "name": "python3"
  },
  "language_info": {
   "codemirror_mode": {
    "name": "ipython",
    "version": 3
   },
   "file_extension": ".py",
   "mimetype": "text/x-python",
   "name": "python",
   "nbconvert_exporter": "python",
   "pygments_lexer": "ipython3",
   "version": "3.11.5"
  }
 },
 "nbformat": 4,
 "nbformat_minor": 5
}
