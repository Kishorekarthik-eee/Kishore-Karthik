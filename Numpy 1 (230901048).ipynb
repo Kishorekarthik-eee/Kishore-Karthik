{
 "cells": [
  {
   "cell_type": "code",
   "execution_count": 1,
   "id": "7f171030",
   "metadata": {},
   "outputs": [
    {
     "name": "stdout",
     "output_type": "stream",
     "text": [
      "One dimensional array: [1 2 3]\n"
     ]
    }
   ],
   "source": [
    "import numpy as np\n",
    "a = np.array([1,2,3])\n",
    "print(\"One dimensional array:\",a)"
   ]
  },
  {
   "cell_type": "code",
   "execution_count": 2,
   "id": "7a32bc67",
   "metadata": {},
   "outputs": [
    {
     "name": "stdout",
     "output_type": "stream",
     "text": [
      "Two dimensional array: [[1 2 3]\n",
      " [4 5 6]]\n"
     ]
    }
   ],
   "source": [
    "import numpy as np\n",
    "a = np.array([[1,2,3],[4,5,6]])\n",
    "print(\"Two dimensional array:\",a)"
   ]
  },
  {
   "cell_type": "code",
   "execution_count": 3,
   "id": "6b2c6b4c",
   "metadata": {},
   "outputs": [
    {
     "name": "stdout",
     "output_type": "stream",
     "text": [
      "Three dimensional array: [[1 2 3]\n",
      " [4 5 6]\n",
      " [7 8 9]]\n"
     ]
    }
   ],
   "source": [
    "import numpy as np\n",
    "a = np.array([[1,2,3],[4,5,6],[7,8,9]])\n",
    "print(\"Three dimensional array:\",a)"
   ]
  },
  {
   "cell_type": "code",
   "execution_count": 6,
   "id": "385f6ceb",
   "metadata": {},
   "outputs": [
    {
     "name": "stdout",
     "output_type": "stream",
     "text": [
      "\n",
      " Array with zero values: \n",
      " [[0. 0.]\n",
      " [0. 0.]]\n"
     ]
    }
   ],
   "source": [
    "import numpy as np\n",
    "a = np.zeros((2,2))\n",
    "print(\"\\n Array with zero values: \\n\",a)"
   ]
  },
  {
   "cell_type": "code",
   "execution_count": 5,
   "id": "242fab14",
   "metadata": {},
   "outputs": [
    {
     "name": "stdout",
     "output_type": "stream",
     "text": [
      "\n",
      " Random values:\n",
      " [[0.98919753 0.78687739]\n",
      " [0.12483877 0.14623904]]\n"
     ]
    }
   ],
   "source": [
    "import numpy as np\n",
    "a = np.random.random((2,2))\n",
    "print(\"\\n Random values:\\n\",a)"
   ]
  },
  {
   "cell_type": "code",
   "execution_count": 10,
   "id": "c05494d0",
   "metadata": {},
   "outputs": [
    {
     "name": "stdout",
     "output_type": "stream",
     "text": [
      "\n",
      " Sequence array:\n",
      " [ 0 10 20 30 40 50 60 70 80 90]\n"
     ]
    }
   ],
   "source": [
    "import numpy as np\n",
    "a = np.arange(0,100,10)\n",
    "print(\"\\n Sequence array:\\n\",a)"
   ]
  },
  {
   "cell_type": "code",
   "execution_count": 13,
   "id": "268c1c69",
   "metadata": {},
   "outputs": [
    {
     "name": "stdout",
     "output_type": "stream",
     "text": [
      "\n",
      " Original array: \n",
      " [[ 1  2  3]\n",
      " [ 4  5  6]\n",
      " [ 7  8  9]\n",
      " [10 11 12]]\n",
      "\n",
      " New array: \n",
      " [[ 1  2  3  4]\n",
      " [ 5  6  7  8]\n",
      " [ 9 10 11 12]]\n"
     ]
    }
   ],
   "source": [
    "import numpy as np\n",
    "a = np.array([[1,2,3],[4,5,6],[7,8,9],[10,11,12]])\n",
    "b = a.reshape(3,4)\n",
    "print(\"\\n Original array: \\n\",a)\n",
    "print(\"\\n New array: \\n\",b)"
   ]
  },
  {
   "cell_type": "code",
   "execution_count": 27,
   "id": "822662bc",
   "metadata": {},
   "outputs": [
    {
     "name": "stdout",
     "output_type": "stream",
     "text": [
      "\n",
      " Original array: \n",
      " [[ 1  2  3]\n",
      " [ 4  5  6]\n",
      " [ 7  8  9]\n",
      " [10 11 12]]\n",
      "\n",
      " New array:\n",
      " [ 1  2  3  4  5  6  7  8  9 10 11 12]\n"
     ]
    }
   ],
   "source": [
    "import numpy as np\n",
    "a = np.array([[1,2,3],[4,5,6],[7,8,9],[10,11,12]])\n",
    "b = a.flatten()\n",
    "print(\"\\n Original array: \\n\",a)\n",
    "print(\"\\n New array:\\n\",b)\n"
   ]
  },
  {
   "cell_type": "code",
   "execution_count": 28,
   "id": "21458aff",
   "metadata": {},
   "outputs": [
    {
     "name": "stdout",
     "output_type": "stream",
     "text": [
      "\n",
      " Original array: \n",
      " [[[1 2 3]\n",
      "  [4 5 6]]\n",
      "\n",
      " [[1 2 3]\n",
      "  [4 5 6]]]\n",
      "\n",
      " New array:\n",
      " [1 2 3 4 5 6 1 2 3 4 5 6]\n",
      "\n",
      " No.of dimensions: \n",
      " 3\n"
     ]
    }
   ],
   "source": [
    "import numpy as np\n",
    "a = np.array([[[1,2,3],[4,5,6]],[[1,2,3],[4,5,6]]])\n",
    "b = a.flatten()\n",
    "print(\"\\n Original array: \\n\",a)\n",
    "print(\"\\n New array:\\n\",b)\n",
    "print(\"\\n No.of dimensions: \\n\",a.ndim)"
   ]
  },
  {
   "cell_type": "code",
   "execution_count": 29,
   "id": "86804906",
   "metadata": {},
   "outputs": [
    {
     "name": "stdout",
     "output_type": "stream",
     "text": [
      "Shape of the array (4, 3)\n"
     ]
    }
   ],
   "source": [
    "import numpy as np\n",
    "a = np.array([[1,2,3],[4,5,6],[7,8,9],[10,11,12]])\n",
    "print(\"Shape of the array\",a.shape)"
   ]
  },
  {
   "cell_type": "code",
   "execution_count": 30,
   "id": "4bb7a491",
   "metadata": {},
   "outputs": [
    {
     "name": "stdout",
     "output_type": "stream",
     "text": [
      "\n",
      " Array element:\n",
      " int64\n"
     ]
    }
   ],
   "source": [
    "import numpy as np\n",
    "a = np.array([[1,2,3],[4,5,6],[7,8,9],[10,11,12]])\n",
    "print(\"\\n Array element:\\n\",a.dtype)"
   ]
  },
  {
   "cell_type": "code",
   "execution_count": 31,
   "id": "ae5c72e7",
   "metadata": {},
   "outputs": [
    {
     "name": "stdout",
     "output_type": "stream",
     "text": [
      "\n",
      " Size of the array:\n",
      " 4\n"
     ]
    }
   ],
   "source": [
    "import numpy as np\n",
    "a = np.array([[1,2,3],[4,5,6],[7,8,9],[10,11,12]])\n",
    "size = len(a)\n",
    "print(\"\\n Size of the array:\\n\",size)"
   ]
  },
  {
   "cell_type": "code",
   "execution_count": 1,
   "id": "36fbe224",
   "metadata": {},
   "outputs": [
    {
     "name": "stdout",
     "output_type": "stream",
     "text": [
      "[1. 2. 3.]\n",
      "float64\n"
     ]
    }
   ],
   "source": [
    "import numpy as np\n",
    "a = [1,2,3]\n",
    "a = np.array(a)\n",
    "new = a.astype('float64')\n",
    "print(new)\n",
    "print(new.dtype)"
   ]
  },
  {
   "cell_type": "code",
   "execution_count": null,
   "id": "62d8e251",
   "metadata": {},
   "outputs": [],
   "source": []
  }
 ],
 "metadata": {
  "kernelspec": {
   "display_name": "Python 3 (ipykernel)",
   "language": "python",
   "name": "python3"
  },
  "language_info": {
   "codemirror_mode": {
    "name": "ipython",
    "version": 3
   },
   "file_extension": ".py",
   "mimetype": "text/x-python",
   "name": "python",
   "nbconvert_exporter": "python",
   "pygments_lexer": "ipython3",
   "version": "3.11.5"
  }
 },
 "nbformat": 4,
 "nbformat_minor": 5
}
